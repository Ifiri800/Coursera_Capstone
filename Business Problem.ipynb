{
 "cells": [
  {
   "cell_type": "markdown",
   "metadata": {},
   "source": [
    "# Introduction"
   ]
  },
  {
   "cell_type": "markdown",
   "metadata": {},
   "source": [
    "New York City and the City of Toronto are very popular tourist and vacation destination for people all round the globe. Both cities are very diverse and are the financial capitals of their respective countries. \n",
    "\n",
    "Firstly, New York City comprises five boroughs sitting where the Hudson River meets the Atlantic Ocean. At its core is Manhattan, a densely populated borough that's among the world's major commerncial, financial, and cultural centers, with an historial population data 18,804,000 in 2020.\n",
    "\n",
    "In the same vain, Toronto with a polulation of 2,731,571 in 2016, it is the most populous city in Canada and the fouth most populous city in North America. Toronto, the capital of the provimce of Ontario, is also a shining an international centre of business, finance, arts, and culture, and recognized as one of the most multicultural and cosmopolitan cities in the world which attract businessmen and women to invest their money. Its economy is highly diversified with strengths in technology, design, financial services, life sciences, education, arts, fashion, aerospace, environmental innovation, food services and tourism. \n",
    "\n",
    "It is important to say that, the seat of government of the Ontario legislature is at Queen's Park. Because of its provincial capital status, the city was also the location of Government House, the residence of the viceregal representative of the Crown in right of Ontario, so to locate the right place to establish business can be a challenge, though. so, what are the best way to get location information?"
   ]
  },
  {
   "cell_type": "markdown",
   "metadata": {},
   "source": [
    "# Business Problem"
   ]
  },
  {
   "cell_type": "markdown",
   "metadata": {},
   "source": [
    "In this analysis, I will compare the neighborhoods of the two cities and determine how similar or dissimilar they are.\n",
    "Is New York City more like Toronto?\n",
    "\n",
    "The goals and objectives is to explore, analyze and cluster The New York City and The City of Toronto.\n",
    "\n",
    "Hence, three business requrements were identified.\n",
    "\n",
    "1 Exploring the neighborhoods in New York City and the City of Toronto.\n",
    "\n",
    "2 Analyzing each neighborhoods in New York City and the City of Toronto.\n",
    "\n",
    "3 Clustering and determining the discriminating venues categories that distinguish each cluster.\n",
    "\n",
    "As locating the best place to own business is challenging having to determine how similar or dissimilar they are, which could potentially available would be worthwhile. The target audience are investors."
   ]
  },
  {
   "cell_type": "code",
   "execution_count": null,
   "metadata": {},
   "outputs": [],
   "source": []
  }
 ],
 "metadata": {
  "kernelspec": {
   "display_name": "Python 3",
   "language": "python",
   "name": "python3"
  },
  "language_info": {
   "codemirror_mode": {
    "name": "ipython",
    "version": 3
   },
   "file_extension": ".py",
   "mimetype": "text/x-python",
   "name": "python",
   "nbconvert_exporter": "python",
   "pygments_lexer": "ipython3",
   "version": "3.8.3"
  }
 },
 "nbformat": 4,
 "nbformat_minor": 4
}
