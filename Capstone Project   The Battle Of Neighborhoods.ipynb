{
 "cells": [
  {
   "cell_type": "markdown",
   "metadata": {},
   "source": [
    "# The Battle of Neighborhoods \n",
    "\n",
    "# Week 1\n",
    "\n"
   ]
  },
  {
   "cell_type": "markdown",
   "metadata": {},
   "source": [
    "# Introduction"
   ]
  },
  {
   "cell_type": "markdown",
   "metadata": {},
   "source": [
    "New York City and the City of Toronto are very popular tourist and vacation destination for people all round the globe. Both cities are very diverse and are the financial capitals of their respective countries. \n",
    "\n",
    "Firstly, New York City comprises five boroughs sitting where the Hudson River meets the Atlantic Ocean. At its core is Manhattan, a densely populated borough that's among the world's major commerncial, financial, and cultural centers, with an historial population data 18,804,000 in 2020.\n",
    "\n",
    "In the same vain, Toronto with a polulation of 2,731,571 in 2016, it is the most populous city in Canada and the fouth most populous city in North America. Toronto, the capital of the provimce of Ontario, is also a shining an international centre of business, finance, arts, and culture, and recognized as one of the most multicultural and cosmopolitan cities in the world which attract businessmen and women to invest their money. Its economy is highly diversified with strengths in technology, design, financial services, life sciences, education, arts, fashion, aerospace, environmental innovation, food services and tourism. \n",
    "\n",
    "It is important to say that, the seat of government of the Ontario legislature is at Queen's Park. Because of its provincial capital status, the city was also the location of Government House, the residence of the viceregal representative of the Crown in right of Ontario, so to locate the right place to establish business can be a challenge, though. so, what are the best way to get location information?"
   ]
  },
  {
   "cell_type": "markdown",
   "metadata": {},
   "source": [
    "## Business Problem"
   ]
  },
  {
   "cell_type": "markdown",
   "metadata": {},
   "source": [
    "In this analysis, I will compare the neighborhoods of the two cities and determine how similar or dissimilar they are.\n",
    "Is New York City more like Toronto?\n",
    "\n",
    "The goals and objectives is to explore, analyze and cluster The New York City and The City of Toronto.\n",
    "\n",
    "Hence, three business requrements were identified.\n",
    "\n",
    "1 Exploring the neighborhoods in New York City and the City of Toronto.\n",
    "\n",
    "2 Analyzing each neighborhoods in New York City and the City of Toronto.\n",
    "\n",
    "3 Clustering and determining the discriminating venues categories that distinguish each cluster.\n",
    "\n",
    "As locating the best place to own business is challenging having to determine how similar or dissimilar they are, which could potentially available would be worthwhile. The target audience are investors."
   ]
  },
  {
   "cell_type": "markdown",
   "metadata": {},
   "source": [
    "## Data Requirement"
   ]
  },
  {
   "cell_type": "markdown",
   "metadata": {},
   "source": [
    "Selecting a suitable location data from New York city and the City of Toronto\n",
    "\n",
    "Thus, two criteria were identified:\n",
    "\n",
    "Firstly, the postal codes of each  borough and neighborhood to be used\n",
    "\n",
    "latitude and longitude value of each borough and neighborhood to create a map\n",
    "\n",
    "\n"
   ]
  },
  {
   "cell_type": "markdown",
   "metadata": {},
   "source": [
    "## Data Understanding"
   ]
  },
  {
   "cell_type": "markdown",
   "metadata": {},
   "source": [
    "In order to understand the data related to location; map, histogram, scatter plots  were used to visualize the neighborhood of the two cities to understand their distribution using folium pacakage, matplotlib, numpy, and pandas methods in python."
   ]
  },
  {
   "cell_type": "markdown",
   "metadata": {},
   "source": [
    "## Data Collection"
   ]
  },
  {
   "cell_type": "markdown",
   "metadata": {},
   "source": [
    "#### Toronto \n",
    "I will download the HTML data from Wikipedia page and use the pandas method read_html to load data into the dataframe https://en.wikipedia.org/wiki/List_of_postal_codes_of_Canada:_M \n",
    "\n",
    "#### New York\n",
    "I will download the JSON data available at https://cf-courses-data.s3.us.cloud-object-storage.appdomain.cloud/IBMDeveloperSkillsNetwork-DS0701EN-SkillsNetwork/labs/newyork_data.json and use pamdas method pd.json_normalize to load the data into dataframe\n",
    "\n",
    "In order to get the latitude and longitude of all the boroughs and neighborhoods in the City of Toronto, I download it from https://cocl.us/Geospatial_data then use pandas method read_csv to load the data into dataframe while geopy package was used to  get the latitude and longitude of all the boroughs and neighborhoods in New York City.\n",
    "\n",
    "\n",
    "I will use Foursquare API to explore neighborhoods in New York City and the City of Toronto. I will use the **explore** function to get the most common venue categories in each neighborhood, and then use this feature to group the neighborhoods into clusters. I will use the _k_-means clustering algorithm to complete this task. Finally, I will use the Folium library to visualize the neighborhoods in New York City and the City of Toronto and their emerging clusters.\n",
    "Foursquare API will be used to get venues, names, locations, menus and photos. Foursquare is a location data provider with information about venues. "
   ]
  },
  {
   "cell_type": "markdown",
   "metadata": {},
   "source": [
    "## Data Preparation"
   ]
  },
  {
   "cell_type": "markdown",
   "metadata": {},
   "source": [
    "In order to clean the datasets, Firstly, I will use na_values method to convert Not assigned to NaN when downloading the Toronto datasets on the website. Then use pandas method dropna to remove it in the dataframe. After that I will create another dataframe for  geospatial and Toronto in order to use pandas method merge to have column names Postal Codes, Borough, Neighborhood, Latitude, and Longitude in the same table for the City of Toronto datasets. I will also do some feature engineering for the New York City datasets."
   ]
  },
  {
   "cell_type": "code",
   "execution_count": null,
   "metadata": {},
   "outputs": [],
   "source": []
  }
 ],
 "metadata": {
  "kernelspec": {
   "display_name": "Python 3",
   "language": "python",
   "name": "python3"
  },
  "language_info": {
   "codemirror_mode": {
    "name": "ipython",
    "version": 3
   },
   "file_extension": ".py",
   "mimetype": "text/x-python",
   "name": "python",
   "nbconvert_exporter": "python",
   "pygments_lexer": "ipython3",
   "version": "3.8.3"
  }
 },
 "nbformat": 4,
 "nbformat_minor": 4
}
